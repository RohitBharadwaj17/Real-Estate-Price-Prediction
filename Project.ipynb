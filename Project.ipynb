{
 "cells": [
  {
   "cell_type": "markdown",
   "id": "ba365bc8",
   "metadata": {},
   "source": [
    "# 1. Introduction\n",
    "\n",
    "Predicitve models are often used by investors to decide whether a budding business would be profitable in their domain. The success of a new restraunt can be similary predicted based on past data relating to the location and services offered. We will develop a predictor model to find out the probability and success a new restraunt can generate with an extensive study. This study aims to offer huge insights on which factors determine the success of a new restraunt and predict ratings for newer restraunt."
   ]
  },
  {
   "cell_type": "markdown",
   "id": "14805e05",
   "metadata": {},
   "source": [
    "# 2. Importing the Libraries"
   ]
  },
  {
   "cell_type": "code",
   "execution_count": 1,
   "id": "13dc333c",
   "metadata": {},
   "outputs": [],
   "source": [
    "# Basic Libraries\n",
    "import numpy as np # NumPy is a general-purpose array-processing package\n",
    "import pandas as pd # It contains high-level data structures and manipulation tools designed to make data analysis fast and easy\n",
    "\n",
    "# Visualization Libraries\n",
    "import matplotlib.pyplot as plt # It is a Plotting Library\n",
    "import seaborn as sns # Seaborn is a Python data visualization library based on matplotlib\n",
    "\n",
    "\n",
    "# Machine Learning Regressor Models Libraries\n",
    "from sklearn.linear_model import LinearRegression # Used to predict the value of a variable based on the value of another variable\n",
    "from sklearn.ensemble import ExtraTreesRegressor # an ensemble supervised ML method tat uses decision trees and is used by the Train using Auto Ml tool.\n",
    "from sklearn.tree import DecisionTreeRegressor # powerful supervised ML algorithms that can be used for classification and regression problems\n",
    "from sklearn.ensemble import GradientBoostingRegressor # calculates the difference between the current prediction and the known correct target value.\n",
    "from xgboost import XGBRegressor # classifies the order of importance of each feature used for the prediction\n",
    "from sklearn.ensemble import RandomForestRegressor # it is meta estimator that fits a number of classifying decision trees on various sub-samples of the dataset and uses averaging to improve the predictive accuracy and control over-fitting\n",
    "\n",
    "# Metrics Libraries \n",
    "from sklearn.model_selection import train_test_split # splitting the data into train and test dataset\n",
    "from sklearn.metrics import classification_report # measure the quality of predictions from a classification algorithm\n",
    "from sklearn.metrics import r2_score # statistical measure of how well the regression predictions approximate the real data points\n",
    "from sklearn.metrics import accuracy_score\n",
    "\n",
    "# Other libraries\n",
    "from collections import Counter\n",
    "\n",
    "import warnings\n",
    "warnings.filterwarnings('ignore')"
   ]
  },
  {
   "cell_type": "markdown",
   "id": "c406b077",
   "metadata": {},
   "source": [
    "# 3. Importing the Dataset"
   ]
  },
  {
   "cell_type": "code",
   "execution_count": 2,
   "id": "fe841b77",
   "metadata": {},
   "outputs": [],
   "source": [
    "# Importing dataset using pandas\n",
    "rest_data = pd.read_csv('zomato.csv')"
   ]
  },
  {
   "cell_type": "code",
   "execution_count": 3,
   "id": "6e6bf90a",
   "metadata": {},
   "outputs": [
    {
     "data": {
      "text/html": [
       "<div>\n",
       "<style scoped>\n",
       "    .dataframe tbody tr th:only-of-type {\n",
       "        vertical-align: middle;\n",
       "    }\n",
       "\n",
       "    .dataframe tbody tr th {\n",
       "        vertical-align: top;\n",
       "    }\n",
       "\n",
       "    .dataframe thead th {\n",
       "        text-align: right;\n",
       "    }\n",
       "</style>\n",
       "<table border=\"1\" class=\"dataframe\">\n",
       "  <thead>\n",
       "    <tr style=\"text-align: right;\">\n",
       "      <th></th>\n",
       "      <th>url</th>\n",
       "      <th>address</th>\n",
       "      <th>name</th>\n",
       "      <th>online_order</th>\n",
       "      <th>book_table</th>\n",
       "      <th>rate</th>\n",
       "      <th>votes</th>\n",
       "      <th>phone</th>\n",
       "      <th>location</th>\n",
       "      <th>rest_type</th>\n",
       "      <th>dish_liked</th>\n",
       "      <th>cuisines</th>\n",
       "      <th>approx_cost(for two people)</th>\n",
       "      <th>reviews_list</th>\n",
       "      <th>menu_item</th>\n",
       "      <th>listed_in(type)</th>\n",
       "      <th>listed_in(city)</th>\n",
       "    </tr>\n",
       "  </thead>\n",
       "  <tbody>\n",
       "    <tr>\n",
       "      <th>0</th>\n",
       "      <td>https://www.zomato.com/bangalore/jalsa-banasha...</td>\n",
       "      <td>942, 21st Main Road, 2nd Stage, Banashankari, ...</td>\n",
       "      <td>Jalsa</td>\n",
       "      <td>Yes</td>\n",
       "      <td>Yes</td>\n",
       "      <td>4.1/5</td>\n",
       "      <td>775</td>\n",
       "      <td>080 42297555\\r\\n+91 9743772233</td>\n",
       "      <td>Banashankari</td>\n",
       "      <td>Casual Dining</td>\n",
       "      <td>Pasta, Lunch Buffet, Masala Papad, Paneer Laja...</td>\n",
       "      <td>North Indian, Mughlai, Chinese</td>\n",
       "      <td>800</td>\n",
       "      <td>[('Rated 4.0', 'RATED\\n  A beautiful place to ...</td>\n",
       "      <td>[]</td>\n",
       "      <td>Buffet</td>\n",
       "      <td>Banashankari</td>\n",
       "    </tr>\n",
       "    <tr>\n",
       "      <th>1</th>\n",
       "      <td>https://www.zomato.com/bangalore/spice-elephan...</td>\n",
       "      <td>2nd Floor, 80 Feet Road, Near Big Bazaar, 6th ...</td>\n",
       "      <td>Spice Elephant</td>\n",
       "      <td>Yes</td>\n",
       "      <td>No</td>\n",
       "      <td>4.1/5</td>\n",
       "      <td>787</td>\n",
       "      <td>080 41714161</td>\n",
       "      <td>Banashankari</td>\n",
       "      <td>Casual Dining</td>\n",
       "      <td>Momos, Lunch Buffet, Chocolate Nirvana, Thai G...</td>\n",
       "      <td>Chinese, North Indian, Thai</td>\n",
       "      <td>800</td>\n",
       "      <td>[('Rated 4.0', 'RATED\\n  Had been here for din...</td>\n",
       "      <td>[]</td>\n",
       "      <td>Buffet</td>\n",
       "      <td>Banashankari</td>\n",
       "    </tr>\n",
       "    <tr>\n",
       "      <th>2</th>\n",
       "      <td>https://www.zomato.com/SanchurroBangalore?cont...</td>\n",
       "      <td>1112, Next to KIMS Medical College, 17th Cross...</td>\n",
       "      <td>San Churro Cafe</td>\n",
       "      <td>Yes</td>\n",
       "      <td>No</td>\n",
       "      <td>3.8/5</td>\n",
       "      <td>918</td>\n",
       "      <td>+91 9663487993</td>\n",
       "      <td>Banashankari</td>\n",
       "      <td>Cafe, Casual Dining</td>\n",
       "      <td>Churros, Cannelloni, Minestrone Soup, Hot Choc...</td>\n",
       "      <td>Cafe, Mexican, Italian</td>\n",
       "      <td>800</td>\n",
       "      <td>[('Rated 3.0', \"RATED\\n  Ambience is not that ...</td>\n",
       "      <td>[]</td>\n",
       "      <td>Buffet</td>\n",
       "      <td>Banashankari</td>\n",
       "    </tr>\n",
       "    <tr>\n",
       "      <th>3</th>\n",
       "      <td>https://www.zomato.com/bangalore/addhuri-udupi...</td>\n",
       "      <td>1st Floor, Annakuteera, 3rd Stage, Banashankar...</td>\n",
       "      <td>Addhuri Udupi Bhojana</td>\n",
       "      <td>No</td>\n",
       "      <td>No</td>\n",
       "      <td>3.7/5</td>\n",
       "      <td>88</td>\n",
       "      <td>+91 9620009302</td>\n",
       "      <td>Banashankari</td>\n",
       "      <td>Quick Bites</td>\n",
       "      <td>Masala Dosa</td>\n",
       "      <td>South Indian, North Indian</td>\n",
       "      <td>300</td>\n",
       "      <td>[('Rated 4.0', \"RATED\\n  Great food and proper...</td>\n",
       "      <td>[]</td>\n",
       "      <td>Buffet</td>\n",
       "      <td>Banashankari</td>\n",
       "    </tr>\n",
       "    <tr>\n",
       "      <th>4</th>\n",
       "      <td>https://www.zomato.com/bangalore/grand-village...</td>\n",
       "      <td>10, 3rd Floor, Lakshmi Associates, Gandhi Baza...</td>\n",
       "      <td>Grand Village</td>\n",
       "      <td>No</td>\n",
       "      <td>No</td>\n",
       "      <td>3.8/5</td>\n",
       "      <td>166</td>\n",
       "      <td>+91 8026612447\\r\\n+91 9901210005</td>\n",
       "      <td>Basavanagudi</td>\n",
       "      <td>Casual Dining</td>\n",
       "      <td>Panipuri, Gol Gappe</td>\n",
       "      <td>North Indian, Rajasthani</td>\n",
       "      <td>600</td>\n",
       "      <td>[('Rated 4.0', 'RATED\\n  Very good restaurant ...</td>\n",
       "      <td>[]</td>\n",
       "      <td>Buffet</td>\n",
       "      <td>Banashankari</td>\n",
       "    </tr>\n",
       "  </tbody>\n",
       "</table>\n",
       "</div>"
      ],
      "text/plain": [
       "                                                 url  \\\n",
       "0  https://www.zomato.com/bangalore/jalsa-banasha...   \n",
       "1  https://www.zomato.com/bangalore/spice-elephan...   \n",
       "2  https://www.zomato.com/SanchurroBangalore?cont...   \n",
       "3  https://www.zomato.com/bangalore/addhuri-udupi...   \n",
       "4  https://www.zomato.com/bangalore/grand-village...   \n",
       "\n",
       "                                             address                   name  \\\n",
       "0  942, 21st Main Road, 2nd Stage, Banashankari, ...                  Jalsa   \n",
       "1  2nd Floor, 80 Feet Road, Near Big Bazaar, 6th ...         Spice Elephant   \n",
       "2  1112, Next to KIMS Medical College, 17th Cross...        San Churro Cafe   \n",
       "3  1st Floor, Annakuteera, 3rd Stage, Banashankar...  Addhuri Udupi Bhojana   \n",
       "4  10, 3rd Floor, Lakshmi Associates, Gandhi Baza...          Grand Village   \n",
       "\n",
       "  online_order book_table   rate  votes                             phone  \\\n",
       "0          Yes        Yes  4.1/5    775    080 42297555\\r\\n+91 9743772233   \n",
       "1          Yes         No  4.1/5    787                      080 41714161   \n",
       "2          Yes         No  3.8/5    918                    +91 9663487993   \n",
       "3           No         No  3.7/5     88                    +91 9620009302   \n",
       "4           No         No  3.8/5    166  +91 8026612447\\r\\n+91 9901210005   \n",
       "\n",
       "       location            rest_type  \\\n",
       "0  Banashankari        Casual Dining   \n",
       "1  Banashankari        Casual Dining   \n",
       "2  Banashankari  Cafe, Casual Dining   \n",
       "3  Banashankari          Quick Bites   \n",
       "4  Basavanagudi        Casual Dining   \n",
       "\n",
       "                                          dish_liked  \\\n",
       "0  Pasta, Lunch Buffet, Masala Papad, Paneer Laja...   \n",
       "1  Momos, Lunch Buffet, Chocolate Nirvana, Thai G...   \n",
       "2  Churros, Cannelloni, Minestrone Soup, Hot Choc...   \n",
       "3                                        Masala Dosa   \n",
       "4                                Panipuri, Gol Gappe   \n",
       "\n",
       "                         cuisines approx_cost(for two people)  \\\n",
       "0  North Indian, Mughlai, Chinese                         800   \n",
       "1     Chinese, North Indian, Thai                         800   \n",
       "2          Cafe, Mexican, Italian                         800   \n",
       "3      South Indian, North Indian                         300   \n",
       "4        North Indian, Rajasthani                         600   \n",
       "\n",
       "                                        reviews_list menu_item  \\\n",
       "0  [('Rated 4.0', 'RATED\\n  A beautiful place to ...        []   \n",
       "1  [('Rated 4.0', 'RATED\\n  Had been here for din...        []   \n",
       "2  [('Rated 3.0', \"RATED\\n  Ambience is not that ...        []   \n",
       "3  [('Rated 4.0', \"RATED\\n  Great food and proper...        []   \n",
       "4  [('Rated 4.0', 'RATED\\n  Very good restaurant ...        []   \n",
       "\n",
       "  listed_in(type) listed_in(city)  \n",
       "0          Buffet    Banashankari  \n",
       "1          Buffet    Banashankari  \n",
       "2          Buffet    Banashankari  \n",
       "3          Buffet    Banashankari  \n",
       "4          Buffet    Banashankari  "
      ]
     },
     "execution_count": 3,
     "metadata": {},
     "output_type": "execute_result"
    }
   ],
   "source": [
    "# Top 5 records of the dataset\n",
    "rest_data.head()"
   ]
  },
  {
   "cell_type": "code",
   "execution_count": 4,
   "id": "2162cbe9",
   "metadata": {},
   "outputs": [
    {
     "data": {
      "text/plain": [
       "(51717, 17)"
      ]
     },
     "execution_count": 4,
     "metadata": {},
     "output_type": "execute_result"
    }
   ],
   "source": [
    "# Shape of the dataset: No. of rows and columns\n",
    "rest_data.shape"
   ]
  },
  {
   "cell_type": "markdown",
   "id": "d6875480",
   "metadata": {},
   "source": [
    "# 3. EDA: Exploratory Data Analysis "
   ]
  },
  {
   "cell_type": "code",
   "execution_count": 5,
   "id": "e1629cd6",
   "metadata": {},
   "outputs": [
    {
     "name": "stdout",
     "output_type": "stream",
     "text": [
      "<class 'pandas.core.frame.DataFrame'>\n",
      "RangeIndex: 51717 entries, 0 to 51716\n",
      "Data columns (total 17 columns):\n",
      " #   Column                       Non-Null Count  Dtype \n",
      "---  ------                       --------------  ----- \n",
      " 0   url                          51717 non-null  object\n",
      " 1   address                      51717 non-null  object\n",
      " 2   name                         51717 non-null  object\n",
      " 3   online_order                 51717 non-null  object\n",
      " 4   book_table                   51717 non-null  object\n",
      " 5   rate                         43942 non-null  object\n",
      " 6   votes                        51717 non-null  int64 \n",
      " 7   phone                        50509 non-null  object\n",
      " 8   location                     51696 non-null  object\n",
      " 9   rest_type                    51490 non-null  object\n",
      " 10  dish_liked                   23639 non-null  object\n",
      " 11  cuisines                     51672 non-null  object\n",
      " 12  approx_cost(for two people)  51371 non-null  object\n",
      " 13  reviews_list                 51717 non-null  object\n",
      " 14  menu_item                    51717 non-null  object\n",
      " 15  listed_in(type)              51717 non-null  object\n",
      " 16  listed_in(city)              51717 non-null  object\n",
      "dtypes: int64(1), object(16)\n",
      "memory usage: 6.7+ MB\n"
     ]
    }
   ],
   "source": [
    "# Information about the dataset\n",
    "rest_data.info()"
   ]
  },
  {
   "cell_type": "code",
   "execution_count": 6,
   "id": "d28c685f",
   "metadata": {},
   "outputs": [
    {
     "data": {
      "text/plain": [
       "url                                0\n",
       "address                            0\n",
       "name                               0\n",
       "online_order                       0\n",
       "book_table                         0\n",
       "rate                            7775\n",
       "votes                              0\n",
       "phone                           1208\n",
       "location                          21\n",
       "rest_type                        227\n",
       "dish_liked                     28078\n",
       "cuisines                          45\n",
       "approx_cost(for two people)      346\n",
       "reviews_list                       0\n",
       "menu_item                          0\n",
       "listed_in(type)                    0\n",
       "listed_in(city)                    0\n",
       "dtype: int64"
      ]
     },
     "execution_count": 6,
     "metadata": {},
     "output_type": "execute_result"
    }
   ],
   "source": [
    "# Checking of null values\n",
    "rest_data.isna().sum()"
   ]
  },
  {
   "cell_type": "code",
   "execution_count": 7,
   "id": "5915ef86",
   "metadata": {},
   "outputs": [],
   "source": [
    "# Dropping irrelevant columns\n",
    "zomato = rest_data.drop(['url','address','phone','dish_liked','menu_item','reviews_list','listed_in(city)'],axis=1)"
   ]
  },
  {
   "cell_type": "code",
   "execution_count": 8,
   "id": "0b6a5cfc",
   "metadata": {},
   "outputs": [],
   "source": [
    "# Removing the Duplicates\n",
    "zomato.duplicated().sum()\n",
    "zomato.drop_duplicates(inplace=True)"
   ]
  },
  {
   "cell_type": "code",
   "execution_count": 9,
   "id": "4788bb92",
   "metadata": {},
   "outputs": [
    {
     "name": "stdout",
     "output_type": "stream",
     "text": [
      "<class 'pandas.core.frame.DataFrame'>\n",
      "Int64Index: 30958 entries, 0 to 51716\n",
      "Data columns (total 10 columns):\n",
      " #   Column                       Non-Null Count  Dtype \n",
      "---  ------                       --------------  ----- \n",
      " 0   name                         30958 non-null  object\n",
      " 1   online_order                 30958 non-null  object\n",
      " 2   book_table                   30958 non-null  object\n",
      " 3   rate                         30958 non-null  object\n",
      " 4   votes                        30958 non-null  int64 \n",
      " 5   location                     30958 non-null  object\n",
      " 6   rest_type                    30958 non-null  object\n",
      " 7   cuisines                     30958 non-null  object\n",
      " 8   approx_cost(for two people)  30958 non-null  object\n",
      " 9   listed_in(type)              30958 non-null  object\n",
      "dtypes: int64(1), object(9)\n",
      "memory usage: 2.6+ MB\n"
     ]
    }
   ],
   "source": [
    "#Remove the NaN values from the dataset\n",
    "zomato.isnull().sum()\n",
    "zomato.dropna(how='any',inplace=True)\n",
    "zomato.info()"
   ]
  },
  {
   "cell_type": "code",
   "execution_count": 10,
   "id": "1adfac8c",
   "metadata": {},
   "outputs": [
    {
     "data": {
      "text/plain": [
       "Index(['name', 'online_order', 'book_table', 'rating', 'votes', 'location',\n",
       "       'rest_type', 'cuisines', 'cost', 'type'],\n",
       "      dtype='object')"
      ]
     },
     "execution_count": 10,
     "metadata": {},
     "output_type": "execute_result"
    }
   ],
   "source": [
    "#Changing the Columns Names\n",
    "zomato.columns\n",
    "zomato = zomato.rename(columns={'approx_cost(for two people)':'cost','listed_in(type)':'type',\n",
    "                                   'rate':'rating'})\n",
    "zomato.columns"
   ]
  },
  {
   "cell_type": "code",
   "execution_count": 11,
   "id": "8012751a",
   "metadata": {},
   "outputs": [
    {
     "name": "stdout",
     "output_type": "stream",
     "text": [
      "<class 'pandas.core.frame.DataFrame'>\n",
      "Int64Index: 30958 entries, 0 to 51716\n",
      "Data columns (total 10 columns):\n",
      " #   Column        Non-Null Count  Dtype  \n",
      "---  ------        --------------  -----  \n",
      " 0   name          30958 non-null  object \n",
      " 1   online_order  30958 non-null  object \n",
      " 2   book_table    30958 non-null  object \n",
      " 3   rating        30958 non-null  object \n",
      " 4   votes         30958 non-null  int64  \n",
      " 5   location      30958 non-null  object \n",
      " 6   rest_type     30958 non-null  object \n",
      " 7   cuisines      30958 non-null  object \n",
      " 8   cost          30958 non-null  float64\n",
      " 9   type          30958 non-null  object \n",
      "dtypes: float64(1), int64(1), object(8)\n",
      "memory usage: 2.6+ MB\n"
     ]
    }
   ],
   "source": [
    "#Some Transformations\n",
    "zomato['cost'] = zomato['cost'].astype(str)\n",
    "zomato['cost'] = zomato['cost'].apply(lambda x: x.replace(',','.'))\n",
    "zomato['cost'] = zomato['cost'].astype(float)\n",
    "zomato.info()"
   ]
  },
  {
   "cell_type": "code",
   "execution_count": 12,
   "id": "723c1450",
   "metadata": {},
   "outputs": [
    {
     "data": {
      "text/plain": [
       "0    4.1\n",
       "1    4.1\n",
       "2    3.8\n",
       "3    3.7\n",
       "4    3.8\n",
       "Name: rating, dtype: float64"
      ]
     },
     "execution_count": 12,
     "metadata": {},
     "output_type": "execute_result"
    }
   ],
   "source": [
    "#Removing '/5' from Rates\n",
    "zomato['rating'].unique()\n",
    "zomato = zomato.loc[zomato.rating !='NEW']\n",
    "zomato = zomato.loc[zomato.rating !='-'].reset_index(drop=True)\n",
    "remove_slash = lambda x: x.replace('/5', '') if type(x) == np.str else x\n",
    "zomato.rating = zomato.rating.apply(remove_slash).str.strip().astype('float')\n",
    "zomato['rating'].head()"
   ]
  },
  {
   "cell_type": "code",
   "execution_count": 13,
   "id": "a9203f7d",
   "metadata": {},
   "outputs": [
    {
     "data": {
      "text/html": [
       "<div>\n",
       "<style scoped>\n",
       "    .dataframe tbody tr th:only-of-type {\n",
       "        vertical-align: middle;\n",
       "    }\n",
       "\n",
       "    .dataframe tbody tr th {\n",
       "        vertical-align: top;\n",
       "    }\n",
       "\n",
       "    .dataframe thead th {\n",
       "        text-align: right;\n",
       "    }\n",
       "</style>\n",
       "<table border=\"1\" class=\"dataframe\">\n",
       "  <thead>\n",
       "    <tr style=\"text-align: right;\">\n",
       "      <th></th>\n",
       "      <th>name</th>\n",
       "      <th>online_order</th>\n",
       "      <th>book_table</th>\n",
       "      <th>rating</th>\n",
       "      <th>votes</th>\n",
       "      <th>location</th>\n",
       "      <th>rest_type</th>\n",
       "      <th>cuisines</th>\n",
       "      <th>cost</th>\n",
       "      <th>type</th>\n",
       "    </tr>\n",
       "  </thead>\n",
       "  <tbody>\n",
       "    <tr>\n",
       "      <th>0</th>\n",
       "      <td>Jalsa</td>\n",
       "      <td>True</td>\n",
       "      <td>True</td>\n",
       "      <td>4.1</td>\n",
       "      <td>775</td>\n",
       "      <td>Banashankari</td>\n",
       "      <td>Casual Dining</td>\n",
       "      <td>North Indian, Mughlai, Chinese</td>\n",
       "      <td>800.0</td>\n",
       "      <td>Buffet</td>\n",
       "    </tr>\n",
       "    <tr>\n",
       "      <th>1</th>\n",
       "      <td>Spice Elephant</td>\n",
       "      <td>True</td>\n",
       "      <td>False</td>\n",
       "      <td>4.1</td>\n",
       "      <td>787</td>\n",
       "      <td>Banashankari</td>\n",
       "      <td>Casual Dining</td>\n",
       "      <td>Chinese, North Indian, Thai</td>\n",
       "      <td>800.0</td>\n",
       "      <td>Buffet</td>\n",
       "    </tr>\n",
       "    <tr>\n",
       "      <th>2</th>\n",
       "      <td>San Churro Cafe</td>\n",
       "      <td>True</td>\n",
       "      <td>False</td>\n",
       "      <td>3.8</td>\n",
       "      <td>918</td>\n",
       "      <td>Banashankari</td>\n",
       "      <td>Cafe, Casual Dining</td>\n",
       "      <td>Cafe, Mexican, Italian</td>\n",
       "      <td>800.0</td>\n",
       "      <td>Buffet</td>\n",
       "    </tr>\n",
       "    <tr>\n",
       "      <th>3</th>\n",
       "      <td>Addhuri Udupi Bhojana</td>\n",
       "      <td>False</td>\n",
       "      <td>False</td>\n",
       "      <td>3.7</td>\n",
       "      <td>88</td>\n",
       "      <td>Banashankari</td>\n",
       "      <td>Quick Bites</td>\n",
       "      <td>South Indian, North Indian</td>\n",
       "      <td>300.0</td>\n",
       "      <td>Buffet</td>\n",
       "    </tr>\n",
       "    <tr>\n",
       "      <th>4</th>\n",
       "      <td>Grand Village</td>\n",
       "      <td>False</td>\n",
       "      <td>False</td>\n",
       "      <td>3.8</td>\n",
       "      <td>166</td>\n",
       "      <td>Basavanagudi</td>\n",
       "      <td>Casual Dining</td>\n",
       "      <td>North Indian, Rajasthani</td>\n",
       "      <td>600.0</td>\n",
       "      <td>Buffet</td>\n",
       "    </tr>\n",
       "  </tbody>\n",
       "</table>\n",
       "</div>"
      ],
      "text/plain": [
       "                    name  online_order  book_table  rating  votes  \\\n",
       "0                  Jalsa          True        True     4.1    775   \n",
       "1         Spice Elephant          True       False     4.1    787   \n",
       "2        San Churro Cafe          True       False     3.8    918   \n",
       "3  Addhuri Udupi Bhojana         False       False     3.7     88   \n",
       "4          Grand Village         False       False     3.8    166   \n",
       "\n",
       "       location            rest_type                        cuisines   cost  \\\n",
       "0  Banashankari        Casual Dining  North Indian, Mughlai, Chinese  800.0   \n",
       "1  Banashankari        Casual Dining     Chinese, North Indian, Thai  800.0   \n",
       "2  Banashankari  Cafe, Casual Dining          Cafe, Mexican, Italian  800.0   \n",
       "3  Banashankari          Quick Bites      South Indian, North Indian  300.0   \n",
       "4  Basavanagudi        Casual Dining        North Indian, Rajasthani  600.0   \n",
       "\n",
       "     type  \n",
       "0  Buffet  \n",
       "1  Buffet  \n",
       "2  Buffet  \n",
       "3  Buffet  \n",
       "4  Buffet  "
      ]
     },
     "execution_count": 13,
     "metadata": {},
     "output_type": "execute_result"
    }
   ],
   "source": [
    "# Adjust the column names\n",
    "zomato.name = zomato.name.apply(lambda x:x.title())\n",
    "zomato.online_order.replace(('Yes','No'),(True, False),inplace=True)\n",
    "zomato.book_table.replace(('Yes','No'),(True, False),inplace=True)\n",
    "zomato.head()"
   ]
  },
  {
   "cell_type": "markdown",
   "id": "46ac6b48",
   "metadata": {},
   "source": [
    "# 4. Visualisation"
   ]
  },
  {
   "cell_type": "markdown",
   "id": "76c48794",
   "metadata": {},
   "source": [
    "### Top 10 most popular restraunt types"
   ]
  },
  {
   "cell_type": "code",
   "execution_count": 14,
   "id": "3fc12159",
   "metadata": {},
   "outputs": [
    {
     "data": {
      "text/plain": [
       "Text(0.5, 0, 'count')"
      ]
     },
     "execution_count": 14,
     "metadata": {},
     "output_type": "execute_result"
    },
    {
     "data": {
      "image/png": "[encoded data removed]",
      "text/plain": [
       "<Figure size 432x288 with 1 Axes>"
      ]
     },
     "metadata": {
      "needs_background": "light"
     },
     "output_type": "display_data"
    }
   ],
   "source": [
    "r_type=zomato['rest_type'].value_counts()[:10]\n",
    "sns.barplot(x=r_type,y=r_type.index)\n",
    "plt.title(\"Most In-Demand Restaurant Types\")\n",
    "plt.xlabel(\"count\")"
   ]
  },
  {
   "cell_type": "markdown",
   "id": "11136632",
   "metadata": {},
   "source": [
    "### Proportion of Restraunts that provide online service"
   ]
  },
  {
   "cell_type": "code",
   "execution_count": 15,
   "id": "1f4b3c9e",
   "metadata": {},
   "outputs": [
    {
     "data": {
      "text/plain": [
       "<matplotlib.patches.Circle at 0x21f1de5d760>"
      ]
     },
     "execution_count": 15,
     "metadata": {},
     "output_type": "execute_result"
    },
    {
     "data": {
      "image/png": "[encoded data removed]",
      "text/plain": [
       "<Figure size 432x288 with 1 Axes>"
      ]
     },
     "metadata": {},
     "output_type": "display_data"
    }
   ],
   "source": [
    "zomato.online_order.value_counts().plot(kind='pie')\n",
    "w_circle=plt.Circle((0,0),0.7,color='white')\n",
    "p=plt.gcf()\n",
    "p.gca().add_artist(w_circle)"
   ]
  },
  {
   "cell_type": "markdown",
   "id": "a36b70b6",
   "metadata": {},
   "source": [
    "### Proportion of restraunts that allow booking tables"
   ]
  },
  {
   "cell_type": "code",
   "execution_count": 16,
   "id": "3420da30",
   "metadata": {},
   "outputs": [
    {
     "data": {
      "text/plain": [
       "<matplotlib.patches.Circle at 0x21f1e3a6f70>"
      ]
     },
     "execution_count": 16,
     "metadata": {},
     "output_type": "execute_result"
    },
    {
     "data": {
      "image/png": "[encoded data removed]",
      "text/plain": [
       "<Figure size 432x288 with 1 Axes>"
      ]
     },
     "metadata": {},
     "output_type": "display_data"
    }
   ],
   "source": [
    "zomato.book_table.value_counts().plot(kind='pie')\n",
    "w_circle=plt.Circle((0,0),0.7,color='white')\n",
    "p=plt.gcf()\n",
    "p.gca().add_artist(w_circle)"
   ]
  },
  {
   "cell_type": "markdown",
   "id": "80d85326",
   "metadata": {},
   "source": [
    "### Most popular restraurant chains"
   ]
  },
  {
   "cell_type": "code",
   "execution_count": 17,
   "id": "99b4fc82",
   "metadata": {},
   "outputs": [
    {
     "data": {
      "text/plain": [
       "Text(0.5, 1.0, 'Top 10 Chain Restaurants')"
      ]
     },
     "execution_count": 17,
     "metadata": {},
     "output_type": "execute_result"
    },
    {
     "data": {
      "image/png": "[encoded data removed]",
      "text/plain": [
       "<Figure size 432x288 with 1 Axes>"
      ]
     },
     "metadata": {
      "needs_background": "light"
     },
     "output_type": "display_data"
    }
   ],
   "source": [
    "ax=zomato.name.value_counts()[:10].plot(kind='bar')\n",
    "plt.xlabel(\"Restaurant Name\")\n",
    "plt.ylabel(\"No. of branches\")\n",
    "plt.title(\"Top 10 Chain Restaurants\")"
   ]
  },
  {
   "cell_type": "markdown",
   "id": "b054b7aa",
   "metadata": {},
   "source": [
    "### Impact of Online Ordering on Ratings\n",
    "\n",
    "It can be seen from the chart below that restaurants that allow ordering online tend to have higher ratings."
   ]
  },
  {
   "cell_type": "code",
   "execution_count": 18,
   "id": "5cc84ade",
   "metadata": {},
   "outputs": [
    {
     "data": {
      "text/plain": [
       "<AxesSubplot:xlabel='rating'>"
      ]
     },
     "execution_count": 18,
     "metadata": {},
     "output_type": "execute_result"
    },
    {
     "data": {
      "image/png": "[encoded data removed]",
      "text/plain": [
       "<Figure size 432x288 with 1 Axes>"
      ]
     },
     "metadata": {},
     "output_type": "display_data"
    }
   ],
   "source": [
    "sns.set_style('white')\n",
    "y=pd.crosstab(zomato.rating,zomato.online_order)\n",
    "y.plot(kind='bar',stacked=True)"
   ]
  },
  {
   "cell_type": "markdown",
   "id": "cb52dd68",
   "metadata": {},
   "source": [
    "### Impact of Table Bookings on Ratings\n",
    "\n",
    "It can be seen from the chart below that restaurants that allow table bookings tend to have higher ratings"
   ]
  },
  {
   "cell_type": "code",
   "execution_count": 19,
   "id": "d726bcbe",
   "metadata": {},
   "outputs": [
    {
     "data": {
      "text/plain": [
       "<AxesSubplot:xlabel='rating'>"
      ]
     },
     "execution_count": 19,
     "metadata": {},
     "output_type": "execute_result"
    },
    {
     "data": {
      "image/png": "[encoded data removed]",
      "text/plain": [
       "<Figure size 432x288 with 1 Axes>"
      ]
     },
     "metadata": {},
     "output_type": "display_data"
    }
   ],
   "source": [
    "sns.set_style('white')\n",
    "y=pd.crosstab(zomato.rating,zomato.book_table)\n",
    "y.plot(kind='bar',stacked=True)"
   ]
  },
  {
   "cell_type": "markdown",
   "id": "4e6a2640",
   "metadata": {},
   "source": [
    "### Top 10 restaurants locations"
   ]
  },
  {
   "cell_type": "code",
   "execution_count": 20,
   "id": "dc130411",
   "metadata": {},
   "outputs": [
    {
     "data": {
      "image/png": "[encoded data removed]",
      "text/plain": [
       "<Figure size 432x288 with 1 Axes>"
      ]
     },
     "metadata": {},
     "output_type": "display_data"
    }
   ],
   "source": [
    "sns.set_style('darkgrid')\n",
    "ch=zomato['location'].value_counts()[:10]\n",
    "sns.barplot(x=ch,y=ch.index,palette='viridis')\n",
    "plt.xlabel('Number of Outlets')\n",
    "plt.ylabel('Location')\n",
    "plt.show()"
   ]
  },
  {
   "cell_type": "markdown",
   "id": "a944d0d4",
   "metadata": {},
   "source": [
    "# 5. Correlation\n",
    "\n",
    "How much different features are effecting other features."
   ]
  },
  {
   "cell_type": "code",
   "execution_count": 21,
   "id": "66517113",
   "metadata": {},
   "outputs": [],
   "source": [
    "def Encode(zomato):\n",
    "    for column in zomato.columns[~zomato.columns.isin(['rating', 'cost', 'votes'])]:\n",
    "        zomato[column] = zomato[column].factorize()[0]\n",
    "    return zomato\n",
    "\n",
    "encodedZomato = Encode(zomato.copy())"
   ]
  },
  {
   "cell_type": "markdown",
   "id": "7e0171cd",
   "metadata": {},
   "source": [
    "### Next we try to plot a heatmap to get the correlation between the various available variables."
   ]
  },
  {
   "cell_type": "code",
   "execution_count": 22,
   "id": "28af9f0f",
   "metadata": {},
   "outputs": [
    {
     "data": {
      "text/plain": [
       "<AxesSubplot:>"
      ]
     },
     "execution_count": 22,
     "metadata": {},
     "output_type": "execute_result"
    },
    {
     "data": {
      "image/png": "[encoded data removed]",
      "text/plain": [
       "<Figure size 1080x576 with 2 Axes>"
      ]
     },
     "metadata": {},
     "output_type": "display_data"
    }
   ],
   "source": [
    "#Get Correlation between different variables\n",
    "corr = encodedZomato.corr(method='kendall')\n",
    "plt.figure(figsize=(15,8))\n",
    "sns.heatmap(corr, annot=True)"
   ]
  },
  {
   "cell_type": "markdown",
   "id": "fc859e04",
   "metadata": {},
   "source": [
    "### 6. Splitting the Dataset\n",
    "\n",
    "Next up is very important step of the deciding the train-test split for the different models. In this, after careful consideration, a train-test split of 4:1 is chosen. Also, the dependent and independent variables are declared for the models. The target variable here is rating which is what we aim to predict for future restaurants."
   ]
  },
  {
   "cell_type": "code",
   "execution_count": 23,
   "id": "dec5b432",
   "metadata": {},
   "outputs": [
    {
     "data": {
      "text/plain": [
       "((23710, 8), (23710,))"
      ]
     },
     "execution_count": 23,
     "metadata": {},
     "output_type": "execute_result"
    }
   ],
   "source": [
    "#Defining X and Y for model, Train-test split\n",
    "x = encodedZomato[[\"online_order\",\"book_table\",\"votes\",\"location\",\"rest_type\",\"cuisines\",\"cost\",\"type\"]]\n",
    "y = encodedZomato['rating']\n",
    "#Getting Test and Training Set, change test_size to change the train-test split\n",
    "x_train,x_test,y_train,y_test=train_test_split(x,y,test_size=.2,random_state=353)\n",
    "x_train.shape, y_train.shape"
   ]
  },
  {
   "cell_type": "markdown",
   "id": "c5b77163",
   "metadata": {},
   "source": [
    "# 7. Model Building and Evaluation"
   ]
  },
  {
   "cell_type": "markdown",
   "id": "111e39aa",
   "metadata": {},
   "source": [
    "### 1. Linear Regression\n",
    "\n",
    "In statistics, linear regression is a linear approach for modelling the relationship between a scalar response and one or more explanatory variables. The case of one explanatory variable is called simple linear regression."
   ]
  },
  {
   "cell_type": "code",
   "execution_count": 24,
   "id": "d49fb77e",
   "metadata": {},
   "outputs": [
    {
     "data": {
      "text/plain": [
       "LinearRegression()"
      ]
     },
     "execution_count": 24,
     "metadata": {},
     "output_type": "execute_result"
    }
   ],
   "source": [
    "regressor_LR = LinearRegression() # Linear Regression regressor\n",
    "regressor_LR.fit(x_train,y_train) # fitting the dataset in the Linear Regression model/ training the model"
   ]
  },
  {
   "cell_type": "code",
   "execution_count": 25,
   "id": "221595ba",
   "metadata": {},
   "outputs": [
    {
     "name": "stdout",
     "output_type": "stream",
     "text": [
      "0.3001334694342265\n"
     ]
    }
   ],
   "source": [
    "y_pred_LR=regressor_LR.predict(x_test) # predicting the values of test dataset\n",
    "r2_score_LR = r2_score(y_test,y_pred_LR) # getting the r2 score of the linear regression model\n",
    "print(r2_score_LR)"
   ]
  },
  {
   "cell_type": "markdown",
   "id": "388bbf45",
   "metadata": {},
   "source": [
    "### 2. Decision Tree Regressor\n",
    "\n",
    "Decision Trees (DTs) are a non-parametric supervised learning method used for classification and regression. The goal is to create a model that predicts the value of a target variable by learning simple decision rules inferred from the data features. A tree can be seen as a piecewise constant approximation."
   ]
  },
  {
   "cell_type": "code",
   "execution_count": 26,
   "id": "82a8c6b7",
   "metadata": {},
   "outputs": [
    {
     "data": {
      "text/plain": [
       "DecisionTreeRegressor(min_samples_leaf=1e-05)"
      ]
     },
     "execution_count": 26,
     "metadata": {},
     "output_type": "execute_result"
    }
   ],
   "source": [
    "regressor_DT = DecisionTreeRegressor(min_samples_leaf=.00001) # Decision Tree Regressor\n",
    "regressor_DT.fit(x_train,y_train) # fitting the dataset in the Decision tree model"
   ]
  },
  {
   "cell_type": "code",
   "execution_count": 27,
   "id": "53ab7a96",
   "metadata": {},
   "outputs": [
    {
     "name": "stdout",
     "output_type": "stream",
     "text": [
      "0.8270662288181975\n"
     ]
    }
   ],
   "source": [
    "y_pred_DT = regressor_DT.predict(x_test) # predicting the values of test dataset\n",
    "r2_score_DT = r2_score(y_test,y_pred_DT) # getting the r2 score of the Decision Tree model\n",
    "print(r2_score_DT)"
   ]
  },
  {
   "cell_type": "markdown",
   "id": "51b7c65a",
   "metadata": {},
   "source": [
    "### 3. Random Forest Regressor\n",
    "\n",
    "A random forest is a meta estimator that fits a number of classifying decision trees on various sub-samples of the dataset and uses averaging to improve the predictive accuracy and control over-fitting."
   ]
  },
  {
   "cell_type": "code",
   "execution_count": 28,
   "id": "3bf0421e",
   "metadata": {},
   "outputs": [
    {
     "data": {
      "text/plain": [
       "RandomForestRegressor(min_samples_leaf=1e-05, n_estimators=200, random_state=50)"
      ]
     },
     "execution_count": 28,
     "metadata": {},
     "output_type": "execute_result"
    }
   ],
   "source": [
    "regressor_RF = RandomForestRegressor(n_estimators=200,random_state=50,min_samples_leaf=.00001) # Random Forest Regressor\n",
    "regressor_RF.fit(x_train,y_train) # fitting the dataset in the Decision tree model"
   ]
  },
  {
   "cell_type": "code",
   "execution_count": 29,
   "id": "0d8de872",
   "metadata": {},
   "outputs": [
    {
     "name": "stdout",
     "output_type": "stream",
     "text": [
      "0.8874748259713594\n"
     ]
    }
   ],
   "source": [
    "y_pred_RF=regressor_RF.predict(x_test) # predicting the values of test dataset\n",
    "r2_score_RF = r2_score(y_test,y_pred_RF) # getting the r2 score of the Random Forest model\n",
    "print(r2_score_RF)"
   ]
  },
  {
   "cell_type": "markdown",
   "id": "7dbd77de",
   "metadata": {},
   "source": [
    "### 4. XGBoost Regressor\n",
    "\n",
    "XGBoost is a decision-tree-based ensemble Machine Learning algorithm that uses a gradient boosting framework. In prediction problems involving unstructured data (images, text, etc.) artificial neural networks tend to outperform all other algorithms or frameworks. However, when it comes to small-to-medium structured/tabular data, decision tree based algorithms are considered best-in-class right now."
   ]
  },
  {
   "cell_type": "code",
   "execution_count": 30,
   "id": "90e6233e",
   "metadata": {},
   "outputs": [
    {
     "data": {
      "text/plain": [
       "XGBRegressor(base_score=None, booster='gbtree', callbacks=None,\n",
       "             colsample_bylevel=None, colsample_bynode=None,\n",
       "             colsample_bytree=None, early_stopping_rounds=None,\n",
       "             enable_categorical=False, eval_metric=None, feature_types=None,\n",
       "             gamma=None, gpu_id=None, grow_policy=None, importance_type=None,\n",
       "             interaction_constraints=None, learning_rate=0.1, max_bin=None,\n",
       "             max_cat_threshold=None, max_cat_to_onehot=None,\n",
       "             max_delta_step=None, max_depth=15, max_leaves=None,\n",
       "             min_child_weight=None, missing=nan, monotone_constraints=None,\n",
       "             n_estimators=200, n_jobs=None, num_parallel_tree=None,\n",
       "             predictor=None, random_state=None, ...)"
      ]
     },
     "execution_count": 30,
     "metadata": {},
     "output_type": "execute_result"
    }
   ],
   "source": [
    "regressor_XGB = XGBRegressor(booster = 'gbtree', learning_rate = 0.1, max_depth = 15, n_estimators = 200) # XGBoost Regressor\n",
    "regressor_XGB.fit(x_train, y_train) # fitting the dataset in the Decision tree model"
   ]
  },
  {
   "cell_type": "code",
   "execution_count": 31,
   "id": "31e138de",
   "metadata": {},
   "outputs": [
    {
     "name": "stdout",
     "output_type": "stream",
     "text": [
      "0.9110254517565294\n"
     ]
    }
   ],
   "source": [
    "y_pred_XGB = regressor_XGB.predict(x_test) # predicting the values of test dataset\n",
    "r2_score_XGB = r2_score(y_test,y_pred_XGB) # getting the r2 score of the XGBoost model\n",
    "print(r2_score_XGB)"
   ]
  },
  {
   "cell_type": "markdown",
   "id": "853dcb78",
   "metadata": {},
   "source": [
    "### 5. Gradient Boosting Regressor\n",
    "\n",
    "GB builds an additive model in a forward stage-wise fashion; it allows for the optimization of arbitrary differentiable loss functions. In each stage a regression tree is fit on the negative gradient of the given loss function."
   ]
  },
  {
   "cell_type": "code",
   "execution_count": 32,
   "id": "f002b391",
   "metadata": {},
   "outputs": [
    {
     "data": {
      "text/plain": [
       "GradientBoostingRegressor()"
      ]
     },
     "execution_count": 32,
     "metadata": {},
     "output_type": "execute_result"
    }
   ],
   "source": [
    "regressor_GBR = GradientBoostingRegressor() # Gradient Boosting Regressor\n",
    "regressor_GBR.fit(x_train, y_train) # fitting the dataset in the Gradient Boosting Model"
   ]
  },
  {
   "cell_type": "code",
   "execution_count": 33,
   "id": "87d0bfde",
   "metadata": {},
   "outputs": [
    {
     "name": "stdout",
     "output_type": "stream",
     "text": [
      "0.5452178335332234\n"
     ]
    }
   ],
   "source": [
    "y_pred_GBR=regressor_GBR.predict(x_test) # predicting the values of test dataset\n",
    "r2_score_GBR = r2_score(y_test,y_pred_GBR) # getting the r2 score of the Gradient Boosting model\n",
    "print(r2_score_GBR)"
   ]
  },
  {
   "cell_type": "markdown",
   "id": "90d02727",
   "metadata": {},
   "source": [
    "### 6. Extra Tree Regressor\n",
    "\n",
    "Extra Trees Regressor is an ensemble learning method fundamentally based on decision trees. Extra Trees Regressor, like RandomForest, randomizes certain decisions and subsets of data to minimize over-learning from the data and overfitting"
   ]
  },
  {
   "cell_type": "code",
   "execution_count": 34,
   "id": "cac7bc81",
   "metadata": {},
   "outputs": [
    {
     "data": {
      "text/plain": [
       "ExtraTreesRegressor(n_estimators=200)"
      ]
     },
     "execution_count": 34,
     "metadata": {},
     "output_type": "execute_result"
    }
   ],
   "source": [
    "regressor_ET=ExtraTreesRegressor(n_estimators = 200) # Extra Tree Regressor\n",
    "regressor_ET.fit(x_train,y_train) # fitting the dataset in the Extra Tree Model"
   ]
  },
  {
   "cell_type": "code",
   "execution_count": 35,
   "id": "bd870a85",
   "metadata": {},
   "outputs": [
    {
     "name": "stdout",
     "output_type": "stream",
     "text": [
      "0.8918262510975058\n"
     ]
    }
   ],
   "source": [
    "y_pred_ET=regressor_ET.predict(x_test) # predicting the values of test dataset\n",
    "r2_score_ET = r2_score(y_test,y_pred_ET) # getting the r2 score of the Gradient Boosting model\n",
    "print(r2_score_ET)"
   ]
  },
  {
   "cell_type": "markdown",
   "id": "e93b5759",
   "metadata": {},
   "source": [
    "# 8. Model Comparison based on R2 Score"
   ]
  },
  {
   "cell_type": "code",
   "execution_count": 36,
   "id": "82a70b50",
   "metadata": {},
   "outputs": [
    {
     "data": {
      "text/html": [
       "<div>\n",
       "<style scoped>\n",
       "    .dataframe tbody tr th:only-of-type {\n",
       "        vertical-align: middle;\n",
       "    }\n",
       "\n",
       "    .dataframe tbody tr th {\n",
       "        vertical-align: top;\n",
       "    }\n",
       "\n",
       "    .dataframe thead th {\n",
       "        text-align: right;\n",
       "    }\n",
       "</style>\n",
       "<table border=\"1\" class=\"dataframe\">\n",
       "  <thead>\n",
       "    <tr style=\"text-align: right;\">\n",
       "      <th></th>\n",
       "      <th>Model</th>\n",
       "      <th>Score</th>\n",
       "    </tr>\n",
       "  </thead>\n",
       "  <tbody>\n",
       "    <tr>\n",
       "      <th>5</th>\n",
       "      <td>XgBoost</td>\n",
       "      <td>0.911025</td>\n",
       "    </tr>\n",
       "    <tr>\n",
       "      <th>3</th>\n",
       "      <td>Extra Tree Regressor</td>\n",
       "      <td>0.891826</td>\n",
       "    </tr>\n",
       "    <tr>\n",
       "      <th>2</th>\n",
       "      <td>Random Forest</td>\n",
       "      <td>0.887475</td>\n",
       "    </tr>\n",
       "    <tr>\n",
       "      <th>1</th>\n",
       "      <td>Decision Tree</td>\n",
       "      <td>0.827066</td>\n",
       "    </tr>\n",
       "    <tr>\n",
       "      <th>4</th>\n",
       "      <td>Gradient Boost</td>\n",
       "      <td>0.545218</td>\n",
       "    </tr>\n",
       "    <tr>\n",
       "      <th>0</th>\n",
       "      <td>Linear Regression</td>\n",
       "      <td>0.300133</td>\n",
       "    </tr>\n",
       "  </tbody>\n",
       "</table>\n",
       "</div>"
      ],
      "text/plain": [
       "                  Model     Score\n",
       "5               XgBoost  0.911025\n",
       "3  Extra Tree Regressor  0.891826\n",
       "2         Random Forest  0.887475\n",
       "1         Decision Tree  0.827066\n",
       "4        Gradient Boost  0.545218\n",
       "0     Linear Regression  0.300133"
      ]
     },
     "execution_count": 36,
     "metadata": {},
     "output_type": "execute_result"
    }
   ],
   "source": [
    "models = pd.DataFrame({\n",
    "    'Model' : ['Linear Regression', 'Decision Tree', 'Random Forest','Extra Tree Regressor', 'Gradient Boost', 'XgBoost'],\n",
    "    'Score' : [regressor_LR.score(x_test, y_test), regressor_DT.score(x_test, y_test), regressor_RF.score(x_test, y_test),regressor_ET.score(x_test, y_test),\n",
    "               regressor_GBR.score(x_test, y_test), regressor_XGB.score(x_test, y_test)]\n",
    "})\n",
    "\n",
    "\n",
    "models.sort_values(by = 'Score', ascending = False)"
   ]
  },
  {
   "cell_type": "markdown",
   "id": "43d4266c",
   "metadata": {},
   "source": [
    "### It is clear from the above table that we XgBoost is giving the best r2 score. "
   ]
  },
  {
   "cell_type": "markdown",
   "id": "0a5f6617",
   "metadata": {},
   "source": [
    "# 9. Predicting Ratings for New Restaurants"
   ]
  },
  {
   "cell_type": "code",
   "execution_count": 37,
   "id": "ecb29bbb",
   "metadata": {},
   "outputs": [
    {
     "data": {
      "text/html": [
       "<div>\n",
       "<style scoped>\n",
       "    .dataframe tbody tr th:only-of-type {\n",
       "        vertical-align: middle;\n",
       "    }\n",
       "\n",
       "    .dataframe tbody tr th {\n",
       "        vertical-align: top;\n",
       "    }\n",
       "\n",
       "    .dataframe thead th {\n",
       "        text-align: right;\n",
       "    }\n",
       "</style>\n",
       "<table border=\"1\" class=\"dataframe\">\n",
       "  <thead>\n",
       "    <tr style=\"text-align: right;\">\n",
       "      <th></th>\n",
       "      <th>name</th>\n",
       "      <th>online_order</th>\n",
       "      <th>book_table</th>\n",
       "      <th>votes</th>\n",
       "      <th>location</th>\n",
       "      <th>rest_type</th>\n",
       "      <th>cuisines</th>\n",
       "      <th>cost</th>\n",
       "      <th>type</th>\n",
       "    </tr>\n",
       "  </thead>\n",
       "  <tbody>\n",
       "    <tr>\n",
       "      <th>0</th>\n",
       "      <td>Madras Meal Company</td>\n",
       "      <td>True</td>\n",
       "      <td>False</td>\n",
       "      <td>400</td>\n",
       "      <td>Banashankari</td>\n",
       "      <td>Casual Dining, Takeaway, Delivery</td>\n",
       "      <td>South Indian, Chettinad</td>\n",
       "      <td>400.0</td>\n",
       "      <td>Buffet</td>\n",
       "    </tr>\n",
       "    <tr>\n",
       "      <th>1</th>\n",
       "      <td>Dwarkamai</td>\n",
       "      <td>True</td>\n",
       "      <td>False</td>\n",
       "      <td>291</td>\n",
       "      <td>Banashankari</td>\n",
       "      <td>Casual Dining</td>\n",
       "      <td>South Indian, Chinese, Street Food</td>\n",
       "      <td>690.0</td>\n",
       "      <td>Buffet</td>\n",
       "    </tr>\n",
       "    <tr>\n",
       "      <th>2</th>\n",
       "      <td>Great Indian Khichdi</td>\n",
       "      <td>True</td>\n",
       "      <td>True</td>\n",
       "      <td>1279</td>\n",
       "      <td>J P Nagar</td>\n",
       "      <td>Casual Dining, Delivery</td>\n",
       "      <td>North Indian, Healthy Food</td>\n",
       "      <td>420.0</td>\n",
       "      <td>Buffet</td>\n",
       "    </tr>\n",
       "    <tr>\n",
       "      <th>3</th>\n",
       "      <td>Shiv Sagar Signature</td>\n",
       "      <td>False</td>\n",
       "      <td>False</td>\n",
       "      <td>705</td>\n",
       "      <td>J P Nagar</td>\n",
       "      <td>Casual Dining</td>\n",
       "      <td>South Indian, Fast Food, Chinese</td>\n",
       "      <td>239.0</td>\n",
       "      <td>Buffet</td>\n",
       "    </tr>\n",
       "    <tr>\n",
       "      <th>4</th>\n",
       "      <td>Vesuvio</td>\n",
       "      <td>False</td>\n",
       "      <td>True</td>\n",
       "      <td>200</td>\n",
       "      <td>Bannerghatta Road</td>\n",
       "      <td>Fine Dining</td>\n",
       "      <td>Italian</td>\n",
       "      <td>1000.0</td>\n",
       "      <td>Dine-out</td>\n",
       "    </tr>\n",
       "    <tr>\n",
       "      <th>5</th>\n",
       "      <td>Lombard</td>\n",
       "      <td>False</td>\n",
       "      <td>True</td>\n",
       "      <td>35</td>\n",
       "      <td>Jayanagar</td>\n",
       "      <td>Casual Dining</td>\n",
       "      <td>Italian, Spanish</td>\n",
       "      <td>900.0</td>\n",
       "      <td>Buffet</td>\n",
       "    </tr>\n",
       "    <tr>\n",
       "      <th>6</th>\n",
       "      <td>Xi Jumping!</td>\n",
       "      <td>True</td>\n",
       "      <td>True</td>\n",
       "      <td>69</td>\n",
       "      <td>Banashankari</td>\n",
       "      <td>Casual Dining, Takeaway, Delivery</td>\n",
       "      <td>Chinese, Fast Food</td>\n",
       "      <td>200.0</td>\n",
       "      <td>Buffet</td>\n",
       "    </tr>\n",
       "    <tr>\n",
       "      <th>7</th>\n",
       "      <td>Andhra Gunpowder</td>\n",
       "      <td>True</td>\n",
       "      <td>True</td>\n",
       "      <td>975</td>\n",
       "      <td>Indiranagar</td>\n",
       "      <td>Casual Dining, Takeaway, Delivery</td>\n",
       "      <td>Andhra</td>\n",
       "      <td>400.0</td>\n",
       "      <td>Buffet</td>\n",
       "    </tr>\n",
       "    <tr>\n",
       "      <th>8</th>\n",
       "      <td>Punjabi Nawabi</td>\n",
       "      <td>True</td>\n",
       "      <td>False</td>\n",
       "      <td>99</td>\n",
       "      <td>Indiranagar</td>\n",
       "      <td>Casual Dining, Delivery</td>\n",
       "      <td>North Indian, Mughlai, Biryani</td>\n",
       "      <td>300.0</td>\n",
       "      <td>Buffet</td>\n",
       "    </tr>\n",
       "    <tr>\n",
       "      <th>9</th>\n",
       "      <td>Lo! - Low Carb and Keto Foods</td>\n",
       "      <td>True</td>\n",
       "      <td>False</td>\n",
       "      <td>333</td>\n",
       "      <td>Domlur</td>\n",
       "      <td>Takeaway, Delivery</td>\n",
       "      <td>Rolls, American, Healthy Food</td>\n",
       "      <td>400.0</td>\n",
       "      <td>Delivery</td>\n",
       "    </tr>\n",
       "  </tbody>\n",
       "</table>\n",
       "</div>"
      ],
      "text/plain": [
       "                            name  online_order  book_table  votes  \\\n",
       "0            Madras Meal Company          True       False    400   \n",
       "1                     Dwarkamai           True       False    291   \n",
       "2           Great Indian Khichdi          True        True   1279   \n",
       "3           Shiv Sagar Signature         False       False    705   \n",
       "4                        Vesuvio         False        True    200   \n",
       "5                       Lombard          False        True     35   \n",
       "6                    Xi Jumping!          True        True     69   \n",
       "7               Andhra Gunpowder          True        True    975   \n",
       "8                 Punjabi Nawabi          True       False     99   \n",
       "9  Lo! - Low Carb and Keto Foods          True       False    333   \n",
       "\n",
       "            location                          rest_type  \\\n",
       "0       Banashankari  Casual Dining, Takeaway, Delivery   \n",
       "1       Banashankari                      Casual Dining   \n",
       "2          J P Nagar            Casual Dining, Delivery   \n",
       "3          J P Nagar                      Casual Dining   \n",
       "4  Bannerghatta Road                        Fine Dining   \n",
       "5          Jayanagar                      Casual Dining   \n",
       "6       Banashankari  Casual Dining, Takeaway, Delivery   \n",
       "7        Indiranagar  Casual Dining, Takeaway, Delivery   \n",
       "8        Indiranagar            Casual Dining, Delivery   \n",
       "9             Domlur                 Takeaway, Delivery   \n",
       "\n",
       "                             cuisines    cost      type  \n",
       "0             South Indian, Chettinad   400.0    Buffet  \n",
       "1  South Indian, Chinese, Street Food   690.0    Buffet  \n",
       "2          North Indian, Healthy Food   420.0    Buffet  \n",
       "3    South Indian, Fast Food, Chinese   239.0    Buffet  \n",
       "4                             Italian  1000.0  Dine-out  \n",
       "5                    Italian, Spanish   900.0    Buffet  \n",
       "6                  Chinese, Fast Food   200.0    Buffet  \n",
       "7                              Andhra   400.0    Buffet  \n",
       "8      North Indian, Mughlai, Biryani   300.0    Buffet  \n",
       "9       Rolls, American, Healthy Food   400.0  Delivery  "
      ]
     },
     "execution_count": 37,
     "metadata": {},
     "output_type": "execute_result"
    }
   ],
   "source": [
    "# Add path to the prediction dataset directory\n",
    "df_new = pd.read_csv('Zomato_predictions.csv')\n",
    "#Converting cost to float\n",
    "df_new['cost'] = df_new['cost'].astype(float)\n",
    "df_new"
   ]
  },
  {
   "cell_type": "code",
   "execution_count": 38,
   "id": "966a9809",
   "metadata": {},
   "outputs": [
    {
     "data": {
      "text/html": [
       "<div>\n",
       "<style scoped>\n",
       "    .dataframe tbody tr th:only-of-type {\n",
       "        vertical-align: middle;\n",
       "    }\n",
       "\n",
       "    .dataframe tbody tr th {\n",
       "        vertical-align: top;\n",
       "    }\n",
       "\n",
       "    .dataframe thead th {\n",
       "        text-align: right;\n",
       "    }\n",
       "</style>\n",
       "<table border=\"1\" class=\"dataframe\">\n",
       "  <thead>\n",
       "    <tr style=\"text-align: right;\">\n",
       "      <th></th>\n",
       "      <th>name</th>\n",
       "      <th>online_order</th>\n",
       "      <th>book_table</th>\n",
       "      <th>votes</th>\n",
       "      <th>location</th>\n",
       "      <th>rest_type</th>\n",
       "      <th>cuisines</th>\n",
       "      <th>cost</th>\n",
       "      <th>type</th>\n",
       "    </tr>\n",
       "  </thead>\n",
       "  <tbody>\n",
       "    <tr>\n",
       "      <th>0</th>\n",
       "      <td>0</td>\n",
       "      <td>0</td>\n",
       "      <td>0</td>\n",
       "      <td>400</td>\n",
       "      <td>0</td>\n",
       "      <td>0</td>\n",
       "      <td>0</td>\n",
       "      <td>400.0</td>\n",
       "      <td>0</td>\n",
       "    </tr>\n",
       "    <tr>\n",
       "      <th>1</th>\n",
       "      <td>1</td>\n",
       "      <td>0</td>\n",
       "      <td>0</td>\n",
       "      <td>291</td>\n",
       "      <td>0</td>\n",
       "      <td>1</td>\n",
       "      <td>1</td>\n",
       "      <td>690.0</td>\n",
       "      <td>0</td>\n",
       "    </tr>\n",
       "    <tr>\n",
       "      <th>2</th>\n",
       "      <td>2</td>\n",
       "      <td>0</td>\n",
       "      <td>1</td>\n",
       "      <td>1279</td>\n",
       "      <td>1</td>\n",
       "      <td>2</td>\n",
       "      <td>2</td>\n",
       "      <td>420.0</td>\n",
       "      <td>0</td>\n",
       "    </tr>\n",
       "    <tr>\n",
       "      <th>3</th>\n",
       "      <td>3</td>\n",
       "      <td>1</td>\n",
       "      <td>0</td>\n",
       "      <td>705</td>\n",
       "      <td>1</td>\n",
       "      <td>1</td>\n",
       "      <td>3</td>\n",
       "      <td>239.0</td>\n",
       "      <td>0</td>\n",
       "    </tr>\n",
       "    <tr>\n",
       "      <th>4</th>\n",
       "      <td>4</td>\n",
       "      <td>1</td>\n",
       "      <td>1</td>\n",
       "      <td>200</td>\n",
       "      <td>2</td>\n",
       "      <td>3</td>\n",
       "      <td>4</td>\n",
       "      <td>1000.0</td>\n",
       "      <td>1</td>\n",
       "    </tr>\n",
       "    <tr>\n",
       "      <th>5</th>\n",
       "      <td>5</td>\n",
       "      <td>1</td>\n",
       "      <td>1</td>\n",
       "      <td>35</td>\n",
       "      <td>3</td>\n",
       "      <td>1</td>\n",
       "      <td>5</td>\n",
       "      <td>900.0</td>\n",
       "      <td>0</td>\n",
       "    </tr>\n",
       "    <tr>\n",
       "      <th>6</th>\n",
       "      <td>6</td>\n",
       "      <td>0</td>\n",
       "      <td>1</td>\n",
       "      <td>69</td>\n",
       "      <td>0</td>\n",
       "      <td>0</td>\n",
       "      <td>6</td>\n",
       "      <td>200.0</td>\n",
       "      <td>0</td>\n",
       "    </tr>\n",
       "    <tr>\n",
       "      <th>7</th>\n",
       "      <td>7</td>\n",
       "      <td>0</td>\n",
       "      <td>1</td>\n",
       "      <td>975</td>\n",
       "      <td>4</td>\n",
       "      <td>0</td>\n",
       "      <td>7</td>\n",
       "      <td>400.0</td>\n",
       "      <td>0</td>\n",
       "    </tr>\n",
       "    <tr>\n",
       "      <th>8</th>\n",
       "      <td>8</td>\n",
       "      <td>0</td>\n",
       "      <td>0</td>\n",
       "      <td>99</td>\n",
       "      <td>4</td>\n",
       "      <td>2</td>\n",
       "      <td>8</td>\n",
       "      <td>300.0</td>\n",
       "      <td>0</td>\n",
       "    </tr>\n",
       "    <tr>\n",
       "      <th>9</th>\n",
       "      <td>9</td>\n",
       "      <td>0</td>\n",
       "      <td>0</td>\n",
       "      <td>333</td>\n",
       "      <td>5</td>\n",
       "      <td>4</td>\n",
       "      <td>9</td>\n",
       "      <td>400.0</td>\n",
       "      <td>2</td>\n",
       "    </tr>\n",
       "  </tbody>\n",
       "</table>\n",
       "</div>"
      ],
      "text/plain": [
       "   name  online_order  book_table  votes  location  rest_type  cuisines  \\\n",
       "0     0             0           0    400         0          0         0   \n",
       "1     1             0           0    291         0          1         1   \n",
       "2     2             0           1   1279         1          2         2   \n",
       "3     3             1           0    705         1          1         3   \n",
       "4     4             1           1    200         2          3         4   \n",
       "5     5             1           1     35         3          1         5   \n",
       "6     6             0           1     69         0          0         6   \n",
       "7     7             0           1    975         4          0         7   \n",
       "8     8             0           0     99         4          2         8   \n",
       "9     9             0           0    333         5          4         9   \n",
       "\n",
       "     cost  type  \n",
       "0   400.0     0  \n",
       "1   690.0     0  \n",
       "2   420.0     0  \n",
       "3   239.0     0  \n",
       "4  1000.0     1  \n",
       "5   900.0     0  \n",
       "6   200.0     0  \n",
       "7   400.0     0  \n",
       "8   300.0     0  \n",
       "9   400.0     2  "
      ]
     },
     "execution_count": 38,
     "metadata": {},
     "output_type": "execute_result"
    }
   ],
   "source": [
    "zomatoNew = Encode(df_new.copy())\n",
    "zomatoNew"
   ]
  },
  {
   "cell_type": "code",
   "execution_count": 39,
   "id": "0ac8d661",
   "metadata": {},
   "outputs": [
    {
     "data": {
      "text/plain": [
       "[3.6, 3.8, 4.3, 4.2, 3.7, 3.1, 3.6, 3.7, 3.7, 4.0]"
      ]
     },
     "execution_count": 39,
     "metadata": {},
     "output_type": "execute_result"
    }
   ],
   "source": [
    "# To predict the ratings, change xgb to any one of rf, gbr, DTree, Etree, reg to try a different model\n",
    "x_pred = zomatoNew[[\"online_order\",\"book_table\",\"votes\",\"location\",\"rest_type\",\"cuisines\",\"cost\",\"type\"]]\n",
    "y_predict=regressor_XGB.predict(x_pred)\n",
    "y_pred_list = [ round(elem, 1) for elem in y_predict ]\n",
    "y_pred_list"
   ]
  },
  {
   "cell_type": "code",
   "execution_count": 40,
   "id": "0ee04c4d",
   "metadata": {},
   "outputs": [
    {
     "data": {
      "text/html": [
       "<div>\n",
       "<style scoped>\n",
       "    .dataframe tbody tr th:only-of-type {\n",
       "        vertical-align: middle;\n",
       "    }\n",
       "\n",
       "    .dataframe tbody tr th {\n",
       "        vertical-align: top;\n",
       "    }\n",
       "\n",
       "    .dataframe thead th {\n",
       "        text-align: right;\n",
       "    }\n",
       "</style>\n",
       "<table border=\"1\" class=\"dataframe\">\n",
       "  <thead>\n",
       "    <tr style=\"text-align: right;\">\n",
       "      <th></th>\n",
       "      <th>name</th>\n",
       "      <th>online_order</th>\n",
       "      <th>book_table</th>\n",
       "      <th>votes</th>\n",
       "      <th>location</th>\n",
       "      <th>rest_type</th>\n",
       "      <th>cuisines</th>\n",
       "      <th>cost</th>\n",
       "      <th>type</th>\n",
       "      <th>rating</th>\n",
       "    </tr>\n",
       "  </thead>\n",
       "  <tbody>\n",
       "    <tr>\n",
       "      <th>0</th>\n",
       "      <td>Madras Meal Company</td>\n",
       "      <td>True</td>\n",
       "      <td>False</td>\n",
       "      <td>400</td>\n",
       "      <td>Banashankari</td>\n",
       "      <td>Casual Dining, Takeaway, Delivery</td>\n",
       "      <td>South Indian, Chettinad</td>\n",
       "      <td>400.0</td>\n",
       "      <td>Buffet</td>\n",
       "      <td>3.6</td>\n",
       "    </tr>\n",
       "    <tr>\n",
       "      <th>1</th>\n",
       "      <td>Dwarkamai</td>\n",
       "      <td>True</td>\n",
       "      <td>False</td>\n",
       "      <td>291</td>\n",
       "      <td>Banashankari</td>\n",
       "      <td>Casual Dining</td>\n",
       "      <td>South Indian, Chinese, Street Food</td>\n",
       "      <td>690.0</td>\n",
       "      <td>Buffet</td>\n",
       "      <td>3.8</td>\n",
       "    </tr>\n",
       "    <tr>\n",
       "      <th>2</th>\n",
       "      <td>Great Indian Khichdi</td>\n",
       "      <td>True</td>\n",
       "      <td>True</td>\n",
       "      <td>1279</td>\n",
       "      <td>J P Nagar</td>\n",
       "      <td>Casual Dining, Delivery</td>\n",
       "      <td>North Indian, Healthy Food</td>\n",
       "      <td>420.0</td>\n",
       "      <td>Buffet</td>\n",
       "      <td>4.3</td>\n",
       "    </tr>\n",
       "    <tr>\n",
       "      <th>3</th>\n",
       "      <td>Shiv Sagar Signature</td>\n",
       "      <td>False</td>\n",
       "      <td>False</td>\n",
       "      <td>705</td>\n",
       "      <td>J P Nagar</td>\n",
       "      <td>Casual Dining</td>\n",
       "      <td>South Indian, Fast Food, Chinese</td>\n",
       "      <td>239.0</td>\n",
       "      <td>Buffet</td>\n",
       "      <td>4.2</td>\n",
       "    </tr>\n",
       "    <tr>\n",
       "      <th>4</th>\n",
       "      <td>Vesuvio</td>\n",
       "      <td>False</td>\n",
       "      <td>True</td>\n",
       "      <td>200</td>\n",
       "      <td>Bannerghatta Road</td>\n",
       "      <td>Fine Dining</td>\n",
       "      <td>Italian</td>\n",
       "      <td>1000.0</td>\n",
       "      <td>Dine-out</td>\n",
       "      <td>3.7</td>\n",
       "    </tr>\n",
       "    <tr>\n",
       "      <th>5</th>\n",
       "      <td>Lombard</td>\n",
       "      <td>False</td>\n",
       "      <td>True</td>\n",
       "      <td>35</td>\n",
       "      <td>Jayanagar</td>\n",
       "      <td>Casual Dining</td>\n",
       "      <td>Italian, Spanish</td>\n",
       "      <td>900.0</td>\n",
       "      <td>Buffet</td>\n",
       "      <td>3.1</td>\n",
       "    </tr>\n",
       "    <tr>\n",
       "      <th>6</th>\n",
       "      <td>Xi Jumping!</td>\n",
       "      <td>True</td>\n",
       "      <td>True</td>\n",
       "      <td>69</td>\n",
       "      <td>Banashankari</td>\n",
       "      <td>Casual Dining, Takeaway, Delivery</td>\n",
       "      <td>Chinese, Fast Food</td>\n",
       "      <td>200.0</td>\n",
       "      <td>Buffet</td>\n",
       "      <td>3.6</td>\n",
       "    </tr>\n",
       "    <tr>\n",
       "      <th>7</th>\n",
       "      <td>Andhra Gunpowder</td>\n",
       "      <td>True</td>\n",
       "      <td>True</td>\n",
       "      <td>975</td>\n",
       "      <td>Indiranagar</td>\n",
       "      <td>Casual Dining, Takeaway, Delivery</td>\n",
       "      <td>Andhra</td>\n",
       "      <td>400.0</td>\n",
       "      <td>Buffet</td>\n",
       "      <td>3.7</td>\n",
       "    </tr>\n",
       "    <tr>\n",
       "      <th>8</th>\n",
       "      <td>Punjabi Nawabi</td>\n",
       "      <td>True</td>\n",
       "      <td>False</td>\n",
       "      <td>99</td>\n",
       "      <td>Indiranagar</td>\n",
       "      <td>Casual Dining, Delivery</td>\n",
       "      <td>North Indian, Mughlai, Biryani</td>\n",
       "      <td>300.0</td>\n",
       "      <td>Buffet</td>\n",
       "      <td>3.7</td>\n",
       "    </tr>\n",
       "    <tr>\n",
       "      <th>9</th>\n",
       "      <td>Lo! - Low Carb and Keto Foods</td>\n",
       "      <td>True</td>\n",
       "      <td>False</td>\n",
       "      <td>333</td>\n",
       "      <td>Domlur</td>\n",
       "      <td>Takeaway, Delivery</td>\n",
       "      <td>Rolls, American, Healthy Food</td>\n",
       "      <td>400.0</td>\n",
       "      <td>Delivery</td>\n",
       "      <td>4.0</td>\n",
       "    </tr>\n",
       "  </tbody>\n",
       "</table>\n",
       "</div>"
      ],
      "text/plain": [
       "                            name  online_order  book_table  votes  \\\n",
       "0            Madras Meal Company          True       False    400   \n",
       "1                     Dwarkamai           True       False    291   \n",
       "2           Great Indian Khichdi          True        True   1279   \n",
       "3           Shiv Sagar Signature         False       False    705   \n",
       "4                        Vesuvio         False        True    200   \n",
       "5                       Lombard          False        True     35   \n",
       "6                    Xi Jumping!          True        True     69   \n",
       "7               Andhra Gunpowder          True        True    975   \n",
       "8                 Punjabi Nawabi          True       False     99   \n",
       "9  Lo! - Low Carb and Keto Foods          True       False    333   \n",
       "\n",
       "            location                          rest_type  \\\n",
       "0       Banashankari  Casual Dining, Takeaway, Delivery   \n",
       "1       Banashankari                      Casual Dining   \n",
       "2          J P Nagar            Casual Dining, Delivery   \n",
       "3          J P Nagar                      Casual Dining   \n",
       "4  Bannerghatta Road                        Fine Dining   \n",
       "5          Jayanagar                      Casual Dining   \n",
       "6       Banashankari  Casual Dining, Takeaway, Delivery   \n",
       "7        Indiranagar  Casual Dining, Takeaway, Delivery   \n",
       "8        Indiranagar            Casual Dining, Delivery   \n",
       "9             Domlur                 Takeaway, Delivery   \n",
       "\n",
       "                             cuisines    cost      type  rating  \n",
       "0             South Indian, Chettinad   400.0    Buffet     3.6  \n",
       "1  South Indian, Chinese, Street Food   690.0    Buffet     3.8  \n",
       "2          North Indian, Healthy Food   420.0    Buffet     4.3  \n",
       "3    South Indian, Fast Food, Chinese   239.0    Buffet     4.2  \n",
       "4                             Italian  1000.0  Dine-out     3.7  \n",
       "5                    Italian, Spanish   900.0    Buffet     3.1  \n",
       "6                  Chinese, Fast Food   200.0    Buffet     3.6  \n",
       "7                              Andhra   400.0    Buffet     3.7  \n",
       "8      North Indian, Mughlai, Biryani   300.0    Buffet     3.7  \n",
       "9       Rolls, American, Healthy Food   400.0  Delivery     4.0  "
      ]
     },
     "execution_count": 40,
     "metadata": {},
     "output_type": "execute_result"
    }
   ],
   "source": [
    "df_new[\"rating\"] = y_pred_list\n",
    "df_new"
   ]
  },
  {
   "cell_type": "code",
   "execution_count": null,
   "id": "4f0f7188",
   "metadata": {},
   "outputs": [],
   "source": []
  }
 ],
 "metadata": {
  "kernelspec": {
   "display_name": "Python 3 (ipykernel)",
   "language": "python",
   "name": "python3"
  },
  "language_info": {
   "codemirror_mode": {
    "name": "ipython",
    "version": 3
   },
   "file_extension": ".py",
   "mimetype": "text/x-python",
   "name": "python",
   "nbconvert_exporter": "python",
   "pygments_lexer": "ipython3",
   "version": "3.9.12"
  }
 },
 "nbformat": 4,
 "nbformat_minor": 5
}
